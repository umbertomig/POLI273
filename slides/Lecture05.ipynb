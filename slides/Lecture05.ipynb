{
 "cells": [
  {
   "cell_type": "markdown",
   "metadata": {
    "slideshow": {
     "slide_type": "slide"
    }
   },
   "source": [
    "# POLI 273\n",
    "\n",
    "## Causal Inference\n",
    "\n",
    "### Lecture 05 - DAGs for Causal Identification"
   ]
  },
  {
   "cell_type": "markdown",
   "metadata": {
    "slideshow": {
     "slide_type": "slide"
    }
   },
   "source": [
    "## Announcements\n",
    "\n",
    "- This class GitHub: https://github.com/umbertomig/POLI273\n",
    "\n",
    "- PS01: How is it going?\n",
    "\n",
    "- Qualtrics Videos: It is still missing the Conjoint Video and the Case-Control Video.\n",
    "    + I'll post them this week"
   ]
  },
  {
   "cell_type": "markdown",
   "metadata": {
    "slideshow": {
     "slide_type": "slide"
    }
   },
   "source": [
    "## Agenda for Today\n",
    "\n",
    "- DAGs:\n",
    "    + What are DAGs?\n",
    "    + How to draw them\n",
    "    + Causal x non-causal paths\n",
    "        - How to draw the paths\n",
    "    + d-Separation\n",
    "    + Backdoor criterion\n",
    "    + Why they are good / connections with PO."
   ]
  },
  {
   "cell_type": "markdown",
   "metadata": {
    "slideshow": {
     "slide_type": "slide"
    }
   },
   "source": [
    "## DAGs\n",
    "\n",
    "- DAG stands for *Direct Acyclic Graphs*\n",
    "    + Graph: You know what it is.\n",
    "    + Direct: Oriented; Idea that one thing leads to another.\n",
    "    + Acyclic: Restrictions on the types of paths that are allowed.\n",
    "    \n",
    "- [Graph theory](https://en.wikipedia.org/wiki/Graph_theory) is old in math and the sciences. It has been used to study many things:\n",
    "    + Traffic\n",
    "    + Atoms\n",
    "    + Internet\n",
    "    + Social Networks"
   ]
  },
  {
   "cell_type": "markdown",
   "metadata": {
    "slideshow": {
     "slide_type": "slide"
    },
    "tags": []
   },
   "source": [
    "## DAGs\n",
    "\n",
    "- **Graph**: Set of Edges (links; arrows) + Set of Vertices (points; nodes) + Mapping\n",
    "\n",
    "![img](https://upload.wikimedia.org/wikipedia/commons/b/bf/Undirected.svg)"
   ]
  },
  {
   "cell_type": "markdown",
   "metadata": {
    "slideshow": {
     "slide_type": "slide"
    }
   },
   "source": [
    "## DAGs\n",
    "\n",
    "- **Direct Graphs**: Set of Vertices + Special Set of Edges (ordered). Denoted by $G = (V, E)$\n",
    "\n",
    "![img](https://upload.wikimedia.org/wikipedia/commons/a/a2/Directed.svg)\n",
    "\n",
    "- Cycles in a funnier way: [TE] (Chapter 7)\n",
    "\n",
    "$$ \\text{YouPunchMe} \\longleftrightarrow \\text{IPunchYou}  $$"
   ]
  },
  {
   "cell_type": "markdown",
   "metadata": {
    "slideshow": {
     "slide_type": "slide"
    }
   },
   "source": [
    "## DAGs\n",
    "\n",
    "- **Direct Acyclic Graphs**: Special types of *direct graphs* that does not allow for cycles.\n",
    "\n",
    "![img](https://upload.wikimedia.org/wikipedia/commons/f/fe/Tred-G.svg)"
   ]
  },
  {
   "cell_type": "markdown",
   "metadata": {
    "slideshow": {
     "slide_type": "slide"
    }
   },
   "source": [
    "## DAGs\n",
    "\n",
    "- DAGs for causal inference: Descriptions of the Data Generating Process.\n",
    "    + Variables: Nodes\n",
    "    + Relationships:\n",
    "        - Vertices you do draw\n",
    "        - Vertices you do not draw (**most important ones**)"
   ]
  },
  {
   "cell_type": "markdown",
   "metadata": {
    "slideshow": {
     "slide_type": "slide"
    }
   },
   "source": [
    "## DAGs\n",
    "\n",
    "- Example (from Acemoglu et al. but not their exact argument):\n",
    "    1. Inclusive Institutions *might* affect Comparative Development.\n",
    "    2. But you would also be saying that there are **no paths** where Comparative Development affects Inclusive Institutions!\n",
    "        + Way stronger!\n",
    "\n",
    "$$ \\text{InclInst} \\longrightarrow \\text{Dev} $$\n",
    "\n",
    "- A missing arrow implies a **strong null** hypothesis of no effect."
   ]
  },
  {
   "cell_type": "markdown",
   "metadata": {
    "slideshow": {
     "slide_type": "slide"
    }
   },
   "source": [
    "## DAGs\n",
    "\n",
    "- Consider this DAG (Elwert, 2013):\n",
    "\n",
    "![img](../img/dag1.png)\n",
    "\n",
    "- What are the:\n",
    "    - Vertices?\n",
    "    - Edges?\n",
    "\n",
    "- We interpret the arrow $X \\rightarrow Y$ as $Y$ caused by $X$."
   ]
  },
  {
   "cell_type": "markdown",
   "metadata": {
    "slideshow": {
     "slide_type": "slide"
    }
   },
   "source": [
    "## DAGs\n",
    "\n",
    "- Consider this DAG (Elwert, 2013):\n",
    "\n",
    "![img](../img/dag1.png)\n",
    "\n",
    "- Let us assume we want to study $T \\longrightarrow Y$; or the causal effect of some treatment $T$ on some outcome $Y$ of interest.\n",
    "\n",
    "- [Definition] **Children**: Variables directly caused by a given variable.\n",
    "    - What are the children of $C$?\n",
    "\n",
    "- [Definition] **Descendants**: All variables directly or indirectly caused by a given variable.\n",
    "    - What are the descendants of $T$?"
   ]
  },
  {
   "cell_type": "markdown",
   "metadata": {
    "slideshow": {
     "slide_type": "slide"
    }
   },
   "source": [
    "## DAGs\n",
    "\n",
    "- Consider this DAG (Elwert, 2013); we want to study $T \\longrightarrow Y$:\n",
    "\n",
    "![img](../img/dag1.png)\n",
    "\n",
    "- [Definition] **Parents**: Direct causes of a variable.\n",
    "    - What are the parents of $T$?\n",
    "    \n",
    "- [Definition] **Ancestors**: Direct and indirect causes of a variable.\n",
    "    - What are the ancestors of $T$?"
   ]
  },
  {
   "cell_type": "markdown",
   "metadata": {
    "slideshow": {
     "slide_type": "slide"
    }
   },
   "source": [
    "## DAGs\n",
    "\n",
    "- Consider this DAG (Elwert, 2013); we want to study $T \\longrightarrow Y$:\n",
    "\n",
    "![img](../img/dag1.png)\n",
    "\n",
    "- [Definition] **Path**: Sequences of adjacent arrows.\n",
    "    + Example: $T \\longrightarrow C \\longleftarrow X  \\longleftarrow U_1 \\longrightarrow Y$"
   ]
  },
  {
   "cell_type": "markdown",
   "metadata": {
    "slideshow": {
     "slide_type": "slide"
    }
   },
   "source": [
    "## DAGs\n",
    "\n",
    "- Consider this DAG (Elwert, 2013); we want to study $T \\longrightarrow Y$:\n",
    "\n",
    "![img](../img/dag1.png)\n",
    "\n",
    "- [Definition] **Causal Path**: All arrows point away from the treatment and toward the outcome.\n",
    "    - Causal Path here?\n",
    "\n",
    "- [Definition] **Non-causal Path**: All paths that go from the treatment to the outcome and that are different than the *causal paths*.\n",
    "    - Example: We have 8 in here. Can you find them?"
   ]
  },
  {
   "cell_type": "markdown",
   "metadata": {
    "slideshow": {
     "slide_type": "slide"
    }
   },
   "source": [
    "## DAGs\n",
    "\n",
    "- Three relations in the paths:\n",
    "    + Chains: $T \\longrightarrow C \\longrightarrow Y$\n",
    "    + Forks: $T \\longleftarrow C \\longrightarrow Y$\n",
    "    + Inverted Forks: $T \\longrightarrow C \\longleftarrow Y$\n",
    "\n",
    "These correspond to the three sources of association we can have among variables."
   ]
  },
  {
   "cell_type": "markdown",
   "metadata": {
    "slideshow": {
     "slide_type": "slide"
    }
   },
   "source": [
    "## DAGs\n",
    "\n",
    "- Relations in the paths and sources of association:\n",
    "    + Forks: $T \\longleftarrow C \\longrightarrow Y$\n",
    "\n",
    "- Confounding Bias (Forks): $T$ and $Y$ are associated because they are both caused by $C$. \n",
    "    + This is an *spurious* association:\n",
    "        - E.g.: $T=\\text{Shorts}$, $Y=\\text{Ice Cream}$ and $C=\\text{Summer}$.\n",
    "    + *Interesting:* If we condition on $C$, we remove the spurious correlation.\n",
    "        - Pretty much control away the confounding, removing the bias."
   ]
  },
  {
   "cell_type": "markdown",
   "metadata": {
    "slideshow": {
     "slide_type": "slide"
    }
   },
   "source": [
    "## DAGs\n",
    "\n",
    "- Relations in the paths and sources of association:\n",
    "    + Chains: $T \\longrightarrow C \\longrightarrow Y$\n",
    "\n",
    "- Causation (Chains): $T$ and $Y$ in the chain are causally associated.\n",
    "    + *Interesting:* If we condition on $C$ (regression of $Y$ on $T$ and $C$), we would *block* the causal chain!\n",
    "        - Control away the effect, or *overcontrol bias*."
   ]
  },
  {
   "cell_type": "markdown",
   "metadata": {
    "slideshow": {
     "slide_type": "slide"
    }
   },
   "source": [
    "## DAGs\n",
    "\n",
    "- Relations in the paths and sources of association:\n",
    "    + Inverted Forks: $T \\longrightarrow C \\longleftarrow Y$\n",
    "        + We call $C$ a **collider**.\n",
    "\n",
    "- Endogenous Selection (Inverted Forks): Other names are *selection bias*, *conditioning bias*, *collider stratification bias*, *collider bias*, *post-treatment bias*, *i-messed-up-pretty-bad-bias*, among 100 others...\n",
    "\n",
    "- $T$ and $Y$ are unrelated, but both affect $C$. Example: $C=\\text{Get a job}$, $T = \\text{Luck}$, and $Y = \\text{Hard-work}$.\n",
    "\n",
    "- You believe hard work and luck are not associated, but both help you get a job. Conditioning on getting a job:\n",
    "    - If the person worked hard, she was not lucky.\n",
    "    - If the person was lucky, she did not work hard\n",
    "        + In either case, you create a relationship between two *unrelated* things!"
   ]
  },
  {
   "cell_type": "markdown",
   "metadata": {
    "slideshow": {
     "slide_type": "slide"
    }
   },
   "source": [
    "## DAGs\n",
    "\n",
    "- Relations in the paths and sources of association:\n",
    "    + Inverted Forks: $T \\longrightarrow C \\longleftarrow Y$\n",
    "\n",
    "- Endogenous Selection (Inverted Forks): This is valid for any descendants of the collider.\n",
    "\n",
    "![img](../img/dag2.png)"
   ]
  },
  {
   "cell_type": "markdown",
   "metadata": {
    "slideshow": {
     "slide_type": "slide"
    }
   },
   "source": [
    "## DAGs\n",
    "\n",
    "- Takeaway: To control may be good or bad. Not necessarily one or the other.\n",
    "    + Control on Forks is good: *Close the Path*\n",
    "    + Control on Chains is bad: *Control away the causal effect that you want to study*\n",
    "    + Control on Inverted Forks is bad: *Induce a relationship where there is none*.\n",
    "        + On this, see [Berkson's Paradox](https://en.wikipedia.org/wiki/Berkson%27s_paradox)"
   ]
  },
  {
   "cell_type": "markdown",
   "metadata": {
    "slideshow": {
     "slide_type": "slide"
    }
   },
   "source": [
    "## DAGs\n",
    "\n",
    "- Drawing DAGs generate testable implications.\n",
    "\n",
    "- What do we want: To keep the causal Path and remove all other paths.\n",
    "    + Sometimes possible, other times not.\n",
    "    + But if we use controls mindlessly, we may mess this up.\n",
    "\n",
    "- How do we know it works?\n",
    "\n",
    "- [Pearl 1988] **d-Separation**: A path between two variables $A$ and $B$ is said to be d-separated (blocked; closed) if:\n",
    "    1. The path contains a **non-collider that has been conditioned on**, or\n",
    "    2. The path contains a **collider that has *not* been conditioned on**."
   ]
  },
  {
   "cell_type": "markdown",
   "metadata": {
    "slideshow": {
     "slide_type": "slide"
    }
   },
   "source": [
    "## DAGs\n",
    "\n",
    "- [Verma and Pearl, 1988]:\n",
    "    1. If two variables $A$ and $B$ are d-separated, then $A \\perp B$.\n",
    "    2. If two variables $A$ and $B$ are d-separated conditional on a third variable (or sets of variables) $C$, then $A \\perp B | C$.\n",
    "    3. If your DAG is faithful and the variables $A$ and $B$ are d-connected (or not d-separated), then they are dependent (faithfulness: assumes your DAG is certain; weak faithfulness: assume your DAG is a conjecture)."
   ]
  },
  {
   "cell_type": "markdown",
   "metadata": {
    "slideshow": {
     "slide_type": "slide"
    }
   },
   "source": [
    "## DAGs\n",
    "\n",
    "- Are $X$ and $Y$ d-separated?\n",
    "\n",
    "![img](../img/dag3.png)\n",
    "\n",
    "1. Draw the paths.\n",
    "2. Study them.\n",
    "3. What happens when you start conditioning?"
   ]
  },
  {
   "cell_type": "markdown",
   "metadata": {
    "slideshow": {
     "slide_type": "slide"
    }
   },
   "source": [
    "## DAGs\n",
    "\n",
    "- [Shpister et al. 2010]: **Adjustment criterion**: A set of observed variables $Z$ (that may be empty) satisfies the adjustment criterion relative to the total causal effect of a treatment $T$ on an outcome $Y$ if:\n",
    "    1. $Z$ blocks all non-causal paths from $Z$ to $Y$, and\n",
    "    2. No variable in $Z$ lies on or decents from a causal path from $T$ to $Y$."
   ]
  },
  {
   "cell_type": "markdown",
   "metadata": {
    "slideshow": {
     "slide_type": "slide"
    }
   },
   "source": [
    "## DAGs\n",
    "\n",
    "Consider the following DAG, where we are interested in the effect of a treatment $T$ on $Y$:\n",
    "\n",
    "![img](../img/dag6.png)\n",
    "\n",
    "1. Draw the paths.\n",
    "2. Study them.\n",
    "3. Can we use the adjustment criterion to identify the effects causally? (Hint: nine possible adjustments! find at least two)."
   ]
  },
  {
   "cell_type": "markdown",
   "metadata": {
    "slideshow": {
     "slide_type": "slide"
    }
   },
   "source": [
    "## DAGs\n",
    "\n",
    "- [Definition]: **Backdoor Path**: Non-causal paths that start with an arrow into the treatment. ($ \\longrightarrow T$)\n",
    "\n",
    "- [Pearl 1993]: **Backdoor criterion**: A set of observed variables $Z$ (that may be empty) satisfies the backdoor criterion relative to the total causal effect of a treatment $T$ on an outcome $Y$ if:\n",
    "    1. No element of $Z$ is a descendant of $T$, and\n",
    "    2. $Z$ blocks all backdoor paths from $T$ to $Y$."
   ]
  },
  {
   "cell_type": "markdown",
   "metadata": {
    "slideshow": {
     "slide_type": "slide"
    }
   },
   "source": [
    "## DAGs\n",
    "\n",
    "Consider the following DAG, where we are interested in the effect of a treatment $T$ on $Y$:\n",
    "\n",
    "![img](../img/dag7.png)\n",
    "\n",
    "1. Draw the paths.\n",
    "2. Study them.\n",
    "3. Can we use the *backdoor criterion* to identify the effect causally? (Met by seven adjustments. Find two.)"
   ]
  },
  {
   "cell_type": "markdown",
   "metadata": {
    "slideshow": {
     "slide_type": "slide"
    }
   },
   "source": [
    "\n",
    "## DAGs\n",
    "\n",
    "- More on DAGs later. Now, let us see the implication for Experimental Political Science.\n",
    "\n",
    "- Suppose we have a random treatment $Z$ and an outcome of interest $Y$. And let us assume that:\n",
    "\n",
    "$$ (Y_{1}, Y_{0}) \\perp Z \\ \\text{ and positivity}$$\n",
    "\n",
    "This means that: \n",
    "\n",
    "- $Y_1 \\perp Z$ and $Y_0 \\perp Z$. From what we know from the adjustment criterion: \n",
    "\n",
    "$$ \\tau = \\mathbb{E}\\big[Y_{1} - Y_{0}\\big] =  \\mathbb{E}\\big[Y_{1}\\big] -  \\mathbb{E}\\big[Y_{0}\\big] $$\n",
    "\n",
    "![img](../img/dag4.png)"
   ]
  },
  {
   "cell_type": "markdown",
   "metadata": {
    "slideshow": {
     "slide_type": "slide"
    }
   },
   "source": [
    "## DAGs\n",
    "\n",
    "- Suppose we have a treatment $Z$, a variable $X$, and an outcome of interest $Y$. And let us assume that:\n",
    "\n",
    "$$ (Y_{1}, Y_{0}) \\perp Z | X \\ \\text{ and positivity}$$\n",
    "\n",
    "- This means that:\n",
    "\n",
    "1. $\\mathbb{E}\\big[Y_1\\big] = \\sum_{\\text{Supp}(X)} \\mathbb{E}[Y|Z = 1, X = x]\\mathbb{P}(X = x)$ \n",
    "2. $\\mathbb{E}\\big[Y_0\\big] = \\sum_{\\text{Supp}(X)} \\mathbb{E}[Y|Z = 0, X = x]\\mathbb{P}(X = x)$ \n",
    "\n",
    "And:\n",
    "\n",
    "$$ \\tau = \\mathbb{E}\\big[Y_{1} - Y_{0}\\big] =  \\mathbb{E}\\big[Y_{1}\\big] -  \\mathbb{E}\\big[Y_{0}\\big] $$\n",
    "\n",
    "![img](../img/dag5.png)"
   ]
  },
  {
   "cell_type": "markdown",
   "metadata": {
    "slideshow": {
     "slide_type": "slide"
    }
   },
   "source": [
    "## DAGs\n",
    "\n",
    "Practical question:\n",
    "\n",
    "- Suppose we have the following DAG, where:\n",
    "    + $Z$ is a randomly assigned treatment\n",
    "    + $M$ is a variable that we observe\n",
    "    + $Y$ is the outcome of interest\n",
    "    + $U$ is an unobserved variable\n",
    "\n",
    "![img](../img/dag8.png)\n",
    "\n",
    "- Can we identify the causal effect?\n",
    "\n",
    "- What are the implications of controlling for $M$?"
   ]
  },
  {
   "cell_type": "markdown",
   "metadata": {
    "slideshow": {
     "slide_type": "slide"
    }
   },
   "source": [
    "## DAGs\n",
    "\n",
    "- This is all you need to know for now.\n",
    "\n",
    "- More will come later.\n",
    "\n",
    "- Next class: Regression for Causal Identification"
   ]
  },
  {
   "cell_type": "markdown",
   "metadata": {
    "slideshow": {
     "slide_type": "slide"
    }
   },
   "source": [
    "## Questions?"
   ]
  },
  {
   "cell_type": "markdown",
   "metadata": {
    "slideshow": {
     "slide_type": "slide"
    }
   },
   "source": [
    "## See you in the next class!"
   ]
  }
 ],
 "metadata": {
  "celltoolbar": "Slideshow",
  "kernelspec": {
   "display_name": "Python 3 (ipykernel)",
   "language": "python",
   "name": "python3"
  },
  "language_info": {
   "codemirror_mode": {
    "name": "ipython",
    "version": 3
   },
   "file_extension": ".py",
   "mimetype": "text/x-python",
   "name": "python",
   "nbconvert_exporter": "python",
   "pygments_lexer": "ipython3",
   "version": "3.10.9"
  }
 },
 "nbformat": 4,
 "nbformat_minor": 4
}
