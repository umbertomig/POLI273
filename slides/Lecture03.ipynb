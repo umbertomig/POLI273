{
 "cells": [
  {
   "cell_type": "markdown",
   "metadata": {
    "slideshow": {
     "slide_type": "slide"
    }
   },
   "source": [
    "# POLI 273\n",
    "\n",
    "## Causal Inference\n",
    "\n",
    "### Lecture 03 - Identification and Causal Identification"
   ]
  },
  {
   "cell_type": "markdown",
   "metadata": {
    "slideshow": {
     "slide_type": "slide"
    }
   },
   "source": [
    "## Announcements\n",
    "\n",
    "- This class GitHub: https://github.com/umbertomig/CSS100public\n",
    "\n",
    "- PS01 is live on Gradescope. However, I am still learning how to use Gradescope. I'll get it fixed today.\n",
    "\n",
    "- Since most of you signaled that you already know the theorems and definitions, I will make them cheat sheets.\n",
    "    + I will assume you know all the nuts and bolts of probability theory up to regression. However, regression we will discuss in length.\n",
    "    + The first cheat sheet is on.\n",
    "\n",
    "- Thanks Debora for reminding me about the syllabus update. It is all on now, and the updated syllabus is on.\n",
    "    + On Canvas, I also put the PDFs. \n",
    "    + With stars are the papers that I found cool but did not replicate to see if they were good. Skimming through them seems to be well done, but your replication might eventually inform us otherwise."
   ]
  },
  {
   "cell_type": "markdown",
   "metadata": {
    "slideshow": {
     "slide_type": "slide"
    }
   },
   "source": [
    "## Identification\n",
    "\n",
    "- Suppose you have the following regression model:\n",
    "\n",
    "$$ Y_i \\ = \\ \\beta_0 + \\beta_1 Z + \\bf{\\beta_{-1}}'\\bf{x} + \\varepsilon $$\n",
    "\n",
    "- And your question is: Can we recover the $\\beta_1$ from the model?\n",
    "\n",
    "- The fact that we can / cannot recover this parameter is known as *identification problem*"
   ]
  },
  {
   "cell_type": "markdown",
   "metadata": {
    "slideshow": {
     "slide_type": "slide"
    },
    "tags": []
   },
   "source": [
    "## Identification\n",
    "\n",
    "- In the classic econometrics sense, it meant whether we had enough variables to estimate the given parameter.\n",
    "    + But this is more a problem of multicollinearity than a causal inference problem.\n",
    "\n",
    "- For instance, if we have that a given:\n",
    "\n",
    "$$x_j = \\gamma_0 + \\gamma_1z_i + \\eta_i$$\n",
    "\n",
    "Then\n",
    "\n",
    "$$ Y_i \\ = \\ \\beta_0 + \\beta_1 z_i + \\bf{\\beta_{-1}}'\\bf{x} + \\varepsilon $$\n",
    "\n",
    "It is not well-identified (we need more structure!)."
   ]
  },
  {
   "cell_type": "markdown",
   "metadata": {
    "slideshow": {
     "slide_type": "slide"
    }
   },
   "source": [
    "## Identification\n",
    "\n",
    "- In this sense, *identification* only means whether we can or not estimate a given set of parameters.\n",
    "\n",
    "- But what is *causal identification*?\n",
    "\n",
    "- Elwert (2013): \"*Identification analysis* determines whether, and under which conditions, it is possible to strip an observed association of its spurious components. We say that a causal effect is *identified* if a properly stripped association equals (`identifies`) the causal effect.\" \n",
    "\n",
    "- This assumes, implicitly, the following: The effect of a variable $Z$ on a variable $Y$ is (should it be linearly additive): \n",
    "\n",
    "$$ \\text{Total Effect} \\ = \\ \\text{Causal Effect} + \\text{Spurious Effect} $$"
   ]
  },
  {
   "cell_type": "markdown",
   "metadata": {
    "slideshow": {
     "slide_type": "slide"
    }
   },
   "source": [
    "## Causal Identification\n",
    "\n",
    "- Suppose we want to study whether having an independent judiciary (Z) affects economic growth (Y), or we can intuitively draw this relationship as:\n",
    "\n",
    "$$ Z \\longrightarrow Y $$\n",
    "\n",
    "- How can we be sure that the effect of $Z$ on $Y$ is causally identified?\n",
    "\n",
    "- The fact that we are still not easily reasoning about the issue tells us that we need some more framework to think about this problem."
   ]
  },
  {
   "cell_type": "markdown",
   "metadata": {
    "slideshow": {
     "slide_type": "slide"
    }
   },
   "source": [
    "## Causal Identification\n",
    "\n",
    "### [Rubin](https://en.wikipedia.org/wiki/Donald_Rubin) Causal Model"
   ]
  },
  {
   "cell_type": "markdown",
   "metadata": {
    "slideshow": {
     "slide_type": "slide"
    }
   },
   "source": [
    "## Causal Identification\n",
    "\n",
    "**[Rubin](https://en.wikipedia.org/wiki/Donald_Rubin) Causal Model**:\n",
    "\n",
    "- Framework called [Potential Outcomes framework](https://en.wikipedia.org/wiki/Rubin_causal_model), developed under the influence of early work by Neyman.\n",
    "\n",
    "- Consider a dichotomous random variable $Z$ (if you prefer concreteness, independent judiciary), for now, with $\\text{supp}(Z) \\in \\{0, 1\\}$ (no indep jud, indep jud). We call it *treatment*.\n",
    "\n",
    "- Consider a random outcome variable $Y$ (if you prefer concreteness, economic growth), for now, with $\\text{supp}(Y) \\in \\{0, 1\\}$ (no growth, growth). We call it *outcome*.\n",
    "\n",
    "- Now, let $i \\in P$ be a given country, where $P$ is the set containing all countries."
   ]
  },
  {
   "cell_type": "markdown",
   "metadata": {
    "slideshow": {
     "slide_type": "slide"
    }
   },
   "source": [
    "## Causal Identification\n",
    "\n",
    "**Rubin Causal Model**:\n",
    "\n",
    "|  **Country** |  **Y(Z = 0)**  |  **Y(Z = 1)**  |\n",
    "|:------------:|:--------------:|:--------------:|\n",
    "|    Dogland   |        0       |        1       |\n",
    "\n",
    "- For a given country $i$ (Dogland, for concreteness), the *individual causal effect* of Z (or having independent courts) is defined as: \n",
    "\n",
    "$$ \\tau_i \\ = \\  Y_i(Z_i = 1) - Y_i(Z_i = 0) $$\n",
    "\n",
    "- But what is the problem with this quantity?\n",
    "    + It *defines* causal effect, but it is not helpful for *identify* the causal effect."
   ]
  },
  {
   "cell_type": "markdown",
   "metadata": {
    "slideshow": {
     "slide_type": "slide"
    }
   },
   "source": [
    "## Causal Identification\n",
    "\n",
    "**Rubin Causal Model**:\n",
    "\n",
    "|  **Country** |  **Y(Z = 0)**  |  **Y(Z = 1)**  |\n",
    "|:------------:|:--------------:|:--------------:|\n",
    "|    Dogland   |        0       |        1       |\n",
    "\n",
    "- The problem here is called the *fundamental problem of causal inference*. \n",
    "    + The way to understand the causal effect is based on an imagined difference that is not helpful to actually *estimate* causal effects.\n",
    "    + And the way to estimate causal effect does not help understand what causal inference is."
   ]
  },
  {
   "cell_type": "markdown",
   "metadata": {
    "slideshow": {
     "slide_type": "slide"
    }
   },
   "source": [
    "## Causal Identification\n",
    "\n",
    "**Rubin Causal Model**:\n",
    "\n",
    "- Imbens and Rubin: \"Although the definition does not require more than one unit, *learning* about causal effects typically requires multiple units.\" (CISSB, p. 8)\n",
    "\n",
    "- And for concreteness, suppose that we now have four countries:\n",
    "\n",
    "|  **Country** |  **Y(Z = 0)**  |  **Y(Z = 1)**  |\n",
    "|:------------:|:--------------:|:--------------:|\n",
    "|   Duckland   |        1       |        1       |\n",
    "|    Dogland   |        0       |        1       |\n",
    "| Chickenmoria |        1       |        0       |\n",
    "|    Catsan    |        0       |        0       |\n",
    "\n",
    "- Does this help us to find causal estimates?\n",
    "    + It does, but more is needed."
   ]
  },
  {
   "cell_type": "markdown",
   "metadata": {
    "slideshow": {
     "slide_type": "slide"
    }
   },
   "source": [
    "## Causal Identification\n",
    "\n",
    "**Rubin Causal Model**:\n",
    "\n",
    "- Imbens and Rubin (now enlighting): \"we are in the same room, and unless you take an aspirin to ease your own headache, your incessant complaining will maintain my headache!\" (CISSB, p. 9)\n",
    "\n",
    "- In most settings, assuming that the treatment applied to one unit would not affect a different unit is reasonable.\n",
    "\n",
    "- But this is not trivial in most settings:\n",
    "    + Simple one: *I benefit from you wearing a mask even if I am not doing so*"
   ]
  },
  {
   "cell_type": "markdown",
   "metadata": {
    "slideshow": {
     "slide_type": "slide"
    }
   },
   "source": [
    "## Causal Identification\n",
    "\n",
    "**Rubin Causal Model**:\n",
    "\n",
    "- **SUTVA**: \"The potential outcomes for any unit do not vary with the treatments assigned to other units, and, for each unit, there are no different forms or versions of each treatment level, which lead to different potential outcomes.\" (CISSB, p. 10)\n",
    "\n",
    "- It means two things:\n",
    "    1. *No Interference*: Treatment applied to one unit does not affect the outcome of other units.\n",
    "        + Violation: suppose that *Chickenmoria* always enjoys economic growth when *Dogland* enforces judicial independence because *Dogland* let their dogs out.\n",
    "\n",
    "|  **Country** |  **Y(Z = 0)**  |  **Y(Z = 1)**  |\n",
    "|:------------:|:--------------:|:--------------:|\n",
    "|    Dogland   |        0       |        1       |\n",
    "| Chickenmoria |        1       |        1       |\n",
    "\n",
    "- Or suppose that the researcher wants to learn whether masks cause lower COVID infections. What is the problem here?"
   ]
  },
  {
   "cell_type": "markdown",
   "metadata": {
    "slideshow": {
     "slide_type": "slide"
    }
   },
   "source": [
    "## Causal Identification\n",
    "\n",
    "**Rubin Causal Model**:\n",
    "\n",
    "- **SUTVA**: \"The potential outcomes for any unit do not vary with the treatments assigned to other units, and, for each unit, there are no different forms or versions of each treatment level, which lead to different potential outcomes.\" (CISSB, p. 10)\n",
    "\n",
    "- It means two things:\n",
    "    2. *No hidden variation in treatment*: \n",
    "        + Violation: Suppose that *Duckland* never really had independent judiciary. It was just to show *Dogland* they are safe investing in.\n",
    "\n",
    "|  **Country** |  **Y(Z = 0)**  |  **Y(Z = 1)**  |\n",
    "|:------------:|:--------------:|:--------------:|\n",
    "|   Duckland   |        1       |        1       |\n",
    "|    Dogland   |        0       |        1       |\n",
    "\n",
    "- Or suppose that the researcher wants to learn whether masks cause lower COVID infections. They give masks to people and estimate the effect of it. What is the problem here?"
   ]
  },
  {
   "cell_type": "markdown",
   "metadata": {
    "slideshow": {
     "slide_type": "slide"
    }
   },
   "source": [
    "## Causal Identification\n",
    "\n",
    "**Rubin Causal Model**:\n",
    "\n",
    "- If we accept SUTVA, then our *treatment effects* are a combination of *what we observe* and *what we miss*.\n",
    "\n",
    "- Observed:\n",
    "\n",
    "$$ Y_i^{obs} \\ = \\ Y_i(Z_i) = \\begin{cases} \n",
    "      Y_i(0) & \\text{ if } Z_i = 0 \\\\\n",
    "      Y_i(1) & \\text{ if } Z_i = 1\n",
    "   \\end{cases} $$\n",
    "\n",
    "- Missed:\n",
    "\n",
    "$$ Y_i^{miss} \\ = \\ Y_i(1 - Z_i) = \\begin{cases} \n",
    "      Y_i(1) & \\text{ if } Z_i = 0 \\\\\n",
    "      Y_i(0) & \\text{ if } Z_i = 1\n",
    "   \\end{cases} $$\n",
    "   \n",
    "- Or an alternative, yet useful, formulation:\n",
    "\n",
    "$$ Y_i^{obs} \\ = \\ Z_iY_i(Z_i = 1) + (1 - Z_i) Y_i(Z_i = 0) $$"
   ]
  },
  {
   "cell_type": "markdown",
   "metadata": {
    "slideshow": {
     "slide_type": "slide"
    }
   },
   "source": [
    "## Causal Identification\n",
    "\n",
    "**Rubin Causal Model**:\n",
    "\n",
    "- And for concreteness, suppose that we now have four countries:\n",
    "\n",
    "|  **Country** | **Y(Z = 0)** | **Y(Z = 1)** | **Z** | **Y(obs)** | **Y(miss)** |\n",
    "|:------------:|:------------:|:------------:|-------|------------|-------------|\n",
    "|   Duckland   |       1      |       1      | 1     | 1          | 1           |\n",
    "|    Dogland   |       0      |       1      | 1     | 1          | 0           |\n",
    "| Chickenmoria |       1      |       0      | 0     | 1          | 0           |\n",
    "| Catstan      |       0      |       0      | 0     | 0          | 0           |\n",
    "\n",
    "- And yes, we accept SUTVA. What is the causal effect?"
   ]
  },
  {
   "cell_type": "markdown",
   "metadata": {
    "slideshow": {
     "slide_type": "slide"
    }
   },
   "source": [
    "## Causal Identification\n",
    "\n",
    "**Rubin Causal Model**:\n",
    "\n",
    "\n",
    "|  **Country** | **Y(Z=0)** | **Y(Z=1)** | **Z** | Y(obs) | Y(miss) | $\\tau_i$ |\n",
    "|:------------:|:------------:|:------------:|:-----:|:----------:|:-----------:|:------:|\n",
    "|   Duckland   |       1      |       1      |   1   |      1     |      1      |    0   |\n",
    "|    Dogland   |       0      |       1      |   1   |      1     |      0      |    1   |\n",
    "| Chickenmoria |       1      |       0      |   0   |      1     |      0      |   -1   |\n",
    "|    Catstan   |       0      |       0      |   0   |      0     |      0      |    0   |\n",
    "|---|---|---|---|---|---|---|\n",
    "|   Averages   |      0.5     |      0.5     |       |            |           |    0   |\n",
    "\n",
    "- Average Treatment Effect (ATE):\n",
    "\n",
    "$$ \\tau \\ = \\ \\mathbb{E}\\big[Y_i(Z_i = 1) - Y_i(Z_i = 0) \\big] \\ = \\ \\mathbb{E}\\big[ \\tau_i \\big] $$"
   ]
  },
  {
   "cell_type": "markdown",
   "metadata": {
    "slideshow": {
     "slide_type": "slide"
    }
   },
   "source": [
    "## Causal Identification\n",
    "\n",
    "### Given that we cannot find $\\tau_i$ (it is unindentified), can we find $\\tau$ (or the ATE)?"
   ]
  },
  {
   "cell_type": "markdown",
   "metadata": {
    "slideshow": {
     "slide_type": "slide"
    }
   },
   "source": [
    "## Causal Identification\n",
    "\n",
    "### [Pearl's](https://en.wikipedia.org/wiki/Judea_Pearl) Direct Acyclic Graphs "
   ]
  },
  {
   "cell_type": "markdown",
   "metadata": {
    "slideshow": {
     "slide_type": "slide"
    }
   },
   "source": [
    "## Causal Identification\n",
    "\n",
    "- Rubin's causal model is not the only model to understand causal inference.\n",
    "\n",
    "- A few years after Rubin, [Judea Pearl](https://en.wikipedia.org/wiki/Judea_Pearl) started developing another causal framework more suitable for artificial intelligence.\n",
    "\n",
    "- Pearl's framework is intuitive and helpful in understanding causal diagrams.\n",
    "\n",
    "- Let us start with a few definitions."
   ]
  },
  {
   "cell_type": "markdown",
   "metadata": {
    "slideshow": {
     "slide_type": "slide"
    },
    "tags": []
   },
   "source": [
    "## Causal Identification\n",
    "\n",
    "**Pearl's Direct Acyclic Graphs**:\n",
    "\n",
    "- **Data Generating Process** (DGP): A set of underlying laws that define the data we observe. (TE, p. 67)\n",
    "\n",
    "- In physics, where we say that the attraction force between two planets is:\n",
    "\n",
    "$$ F \\ = \\ G\\dfrac{m_1m_2}{r^2} $$\n",
    "\n",
    "- And we start collecting data on $m$'s and $r$'s. We could infer how the world works by fitting this equation to the data.\n",
    "\n",
    "- And in estimating it, you will find that there are things we know and things we don't know.\n",
    "    + What we know, we hope this law governs it.\n",
    "    + What we don't, we hope it is a random variation."
   ]
  },
  {
   "cell_type": "markdown",
   "metadata": {
    "slideshow": {
     "slide_type": "slide"
    },
    "tags": []
   },
   "source": [
    "## Causal Identification\n",
    "\n",
    "**Pearl's Direct Acyclic Graphs**:\n",
    "\n",
    "- **Data Generating Process** (DGP): A set of underlying laws that define the data we observe. (TE, p. 67)\n",
    "\n",
    "- But in social sciences, it is a bit messier. For example, we could observe a regularity:\n",
    "    + Every time people wear shorts (S), they tend to eat ice cream (I).\n",
    "\n",
    "- And then, we would conclude that there exists a function such that:\n",
    "\n",
    "$$ I = f(S) $$"
   ]
  },
  {
   "cell_type": "markdown",
   "metadata": {
    "slideshow": {
     "slide_type": "slide"
    },
    "tags": []
   },
   "source": [
    "## Causal Identification\n",
    "\n",
    "**Pearl's Direct Acyclic Graphs**:\n",
    "\n",
    "- Or, in the **Direct Acyclic Graph** (DAG) representation:\n",
    "\n",
    "$$ S \\longrightarrow I $$\n",
    "\n",
    "- Note a few things:\n",
    "    + The random variables are represented by their upper-case letters\n",
    "    + The arrow has a direction: It represents in the Data Generating Process, what we believe that *causes* what.\n",
    "    + We have no signal implications: No assumptions that the relation is positive or negative\n",
    "    + Extremely clear: We only focus on what matters."
   ]
  },
  {
   "cell_type": "markdown",
   "metadata": {
    "slideshow": {
     "slide_type": "slide"
    },
    "tags": []
   },
   "source": [
    "## Causal Identification\n",
    "\n",
    "**Pearl's Direct Acyclic Graphs**:\n",
    "\n",
    "- But it is usually more complicated than that:\n",
    "    + We should specify all the we conjecture affect the outcome.\n",
    "    + Now the interesting: Even things that we believe affects the outcome of interest, but that is not observed.\n",
    "    + Why? Because it is a description of what we believe is the Data Generating Process.\n",
    "\n",
    "- A more *realist ice-cream model*:\n",
    "\n",
    "![img](../img/icecreamdag.png)"
   ]
  },
  {
   "cell_type": "markdown",
   "metadata": {
    "slideshow": {
     "slide_type": "slide"
    },
    "tags": []
   },
   "source": [
    "## Causal Identification\n",
    "\n",
    "**Pearl's Direct Acyclic Graphs**:\n",
    "\n",
    "- Or if you study the effect of police on crime, this is a good DAG (from TE, p. 95):\n",
    "\n",
    "![img](../img/tepg95dag.png)\n",
    "\n",
    "- But how do we go from this representation to estimating the models?\n",
    "\n",
    "- Causal Identification: We need to find the DAG and make sure that the DAG represents our problem well:\n",
    "    + What *well* means here has a precise definition that we will see later."
   ]
  },
  {
   "cell_type": "markdown",
   "metadata": {
    "slideshow": {
     "slide_type": "slide"
    },
    "tags": []
   },
   "source": [
    "## Conclusion\n",
    "\n",
    "- Identification: Part of the problem\n",
    "\n",
    "- Causal Identification: What we want. Way harder.\n",
    "\n",
    "- DAGs: Useful representation, but per se, they do not solve the issue. We need more structure.\n",
    "\n",
    "- Next class we will see that additional structure."
   ]
  },
  {
   "cell_type": "markdown",
   "metadata": {
    "slideshow": {
     "slide_type": "slide"
    }
   },
   "source": [
    "## Questions?"
   ]
  },
  {
   "cell_type": "markdown",
   "metadata": {
    "slideshow": {
     "slide_type": "slide"
    }
   },
   "source": [
    "## See you in the next class!"
   ]
  }
 ],
 "metadata": {
  "celltoolbar": "Slideshow",
  "kernelspec": {
   "display_name": "Python 3 (ipykernel)",
   "language": "python",
   "name": "python3"
  },
  "language_info": {
   "codemirror_mode": {
    "name": "ipython",
    "version": 3
   },
   "file_extension": ".py",
   "mimetype": "text/x-python",
   "name": "python",
   "nbconvert_exporter": "python",
   "pygments_lexer": "ipython3",
   "version": "3.10.9"
  }
 },
 "nbformat": 4,
 "nbformat_minor": 4
}
