{
 "cells": [
  {
   "cell_type": "markdown",
   "metadata": {
    "slideshow": {
     "slide_type": "slide"
    }
   },
   "source": [
    "# POLI 273\n",
    "\n",
    "## Causal Inference\n",
    "\n",
    "### Lecture 04 - Identification and Causal Identification II"
   ]
  },
  {
   "cell_type": "markdown",
   "metadata": {
    "slideshow": {
     "slide_type": "slide"
    }
   },
   "source": [
    "## Announcements\n",
    "\n",
    "- This class GitHub: https://github.com/umbertomig/POLI273\n",
    "\n",
    "- PS01: Needed to change. Will add up to late Friday and change the due date so that you have two solid weeks to get it done.\n",
    "\n",
    "- Syllabus is on.\n",
    "\n",
    "- Papers are on.\n",
    "\n",
    "- Parts missing on syllabus: This weekend for sure done (apologies for the delay with this)."
   ]
  },
  {
   "cell_type": "markdown",
   "metadata": {
    "slideshow": {
     "slide_type": "slide"
    }
   },
   "source": [
    "## Identification\n",
    "\n",
    "- Identification ATE\n",
    "    + Plug-in Principle\n",
    "    + Selection bias\n",
    "    + Exogeneity of the assignment\n"
   ]
  },
  {
   "cell_type": "markdown",
   "metadata": {
    "slideshow": {
     "slide_type": "slide"
    }
   },
   "source": [
    "## Identification\n",
    "\n",
    "- **Identification**: Sufficiency in estimating parameters based on available data.\n",
    "    + PO framework: Impossible to estimate individual treatment effects!\n",
    "    + Manski (1995): Including more observations cannot solve the problem!\n",
    "        + Ouch to people who think big data will *discover* everything..."
   ]
  },
  {
   "cell_type": "markdown",
   "metadata": {
    "slideshow": {
     "slide_type": "slide"
    },
    "tags": []
   },
   "source": [
    "## Identification\n",
    "\n",
    "- Non-parametric causal identification:\n",
    "    + Non-parametric: We will be agnostic about the RVs distributions\n",
    "\n",
    "- **Identification strategy**: \n",
    "    + Well-defined source of variation.\n",
    "    + Statistical method selected to *identify* the parameters."
   ]
  },
  {
   "cell_type": "markdown",
   "metadata": {
    "slideshow": {
     "slide_type": "slide"
    }
   },
   "source": [
    "## Identification in the PO framework\n",
    "\n",
    "- From the previous class:\n",
    "    + Identification in the PO framework is a problem of *missing data*\n",
    "    \n",
    "- Observed:\n",
    "\n",
    "$$ Y_i^{obs} \\ = \\ Y_i(Z_i) = \\begin{cases} \n",
    "      Y_i(0) & \\text{ if } Z_i = 0 \\\\\n",
    "      Y_i(1) & \\text{ if } Z_i = 1\n",
    "   \\end{cases} $$\n",
    "\n",
    "- Missed:\n",
    "\n",
    "$$ Y_i^{miss} \\ = \\ Y_i(1 - Z_i) = \\begin{cases} \n",
    "      Y_i(1) & \\text{ if } Z_i = 0 \\\\\n",
    "      Y_i(0) & \\text{ if } Z_i = 1\n",
    "   \\end{cases} $$\n",
    "   \n",
    "- Or an alternative, yet valuable, formulation:\n",
    "\n",
    "$$ Y_i^{obs} \\ = \\ Z_iY_i(Z_i = 1) + (1 - Z_i) Y_i(Z_i = 0) $$"
   ]
  },
  {
   "cell_type": "markdown",
   "metadata": {
    "slideshow": {
     "slide_type": "slide"
    }
   },
   "source": [
    "## Identification in the PO framework\n",
    "\n",
    "- The *individual treatment effect* is defined as:\n",
    "\n",
    "$$ \\tau_i \\ = \\  Y_i(Z_i = 1) - Y_i(Z_i = 0) $$\n",
    "\n",
    "- And the **Average Treatment Effect**:\n",
    "\n",
    "$$ \\tau \\ = \\ \\mathbb{E}\\big[Y_i(Z_i = 1) - Y_i(Z_i = 0) \\big] \\ = \\ \\mathbb{E}\\big[ \\tau_i \\big] $$\n",
    "\n",
    "- How far can we go just by knowing that?"
   ]
  },
  {
   "cell_type": "markdown",
   "metadata": {
    "slideshow": {
     "slide_type": "slide"
    }
   },
   "source": [
    "## Identification in the PO framework\n",
    "\n",
    "- Step 1: Using Linearity of Expected Values:\n",
    "\n",
    "$$\n",
    "\\begin{align}\n",
    "\\tau &= \\mathbb{E}\\big[Y_i(Z_i = 1) - Y_i(Z_i = 0) \\big] \\\\\n",
    "     &= \\mathbb{E}\\big[Y_i(Z_i = 1)\\big] - \\mathbb{E}\\big[Y_i(Z_i = 0)\\big]\n",
    "\\end{align}\n",
    "$$"
   ]
  },
  {
   "cell_type": "markdown",
   "metadata": {
    "slideshow": {
     "slide_type": "slide"
    }
   },
   "source": [
    "## Identification in the PO framework\n",
    "\n",
    "- Step 2: For simplicity, let $Y_{zi} = Y_i(Z_i = z_i)$. Using the fact that $Y_i = Z_iY_{1i} + (1-Z_i)Y_{0i}$ and the Law of Iterated Expectations:\n",
    "\n",
    "$$\n",
    "\\begin{align}\n",
    "\\tau &= \\mathbb{E}\\big[Y_i(Z_i = 1)\\big] - \\big[\\mathbb{E}\\big[Y_i(Z_i = 0)\\big] \\\\\n",
    "     &= \\mathbb{E}\\big[Y_{1i} | Z_i = 1\\big] - \\mathbb{E}\\big[Y_{0i}| Z_i = 0\\big]\n",
    "\\end{align}\n",
    "$$\n",
    "\n",
    "- And that's it (we did a bit of this in the previous class) with one step more.\n",
    "\n",
    "- How do we go from here to what we *want* to estimate?"
   ]
  },
  {
   "cell_type": "markdown",
   "metadata": {
    "slideshow": {
     "slide_type": "slide"
    }
   },
   "source": [
    "## Identification in the PO framework\n",
    "\n",
    "- Let's understand the problems with the previous steps:\n",
    "\n",
    "- First: ATT decomposition. We can rewrite the conclusion as:\n",
    "\n",
    "$$\n",
    "\\begin{align}\n",
    "\\mathbb{E}\\big[Y_i | Z_i = 1\\big] - \\mathbb{E}\\big[Y_i | Z_i = 0\\big] &= \\mathbb{E}\\big[Y_{1i} | Z_i = 1\\big] - \\mathbb{E}\\big[Y_{0i}| Z_i = 0\\big] \\\\\n",
    "     &= \\underbrace{\\mathbb{E}\\big[Y_{1i} | Z_i = 1\\big] - \\mathbb{E}\\big[Y_{0i} | Z_i = 1\\big]}_{ATT} \\\\\n",
    "     & \\ \\ + \n",
    "     \\underbrace{\\mathbb{E}\\big[Y_{0i} | Z_i = 1\\big] - \\mathbb{E}\\big[Y_{0i}| Z_i = 0\\big]}_{\\text{Selection bias on} Y_{0i}} \\\\\n",
    "\\end{align}\n",
    "$$\n",
    "\n",
    "- What is the source of the Selection Bias?\n",
    "    + Look at these equations: They are suggesting that Selection Bias is when the *control levels* in the units that receive the treatment (or $Y_{0i}$ when $Z_i = 1$) *differ* from the units in the *control*\n",
    "        + Can you draw this in the PO tables? Try it out!"
   ]
  },
  {
   "cell_type": "markdown",
   "metadata": {
    "slideshow": {
     "slide_type": "slide"
    }
   },
   "source": [
    "## Identification in the PO framework\n",
    "\n",
    "- Second: Let's now look at ATC decomposition. We can rewrite the conclusion as:\n",
    "\n",
    "$$\n",
    "\\begin{align}\n",
    "\\mathbb{E}\\big[Y_i | Z_i = 1\\big] - \\big[\\mathbb{E}\\big[Y_i | Z_i = 1\\big] &= \\mathbb{E}\\big[Y_{1i} | Z_i = 1\\big] - \\mathbb{E}\\big[Y_{0i}| Z_i = 0\\big] \\\\\n",
    "     &= \\underbrace{\\mathbb{E}\\big[Y_{1i} | Z_i = 0\\big] - \\mathbb{E}\\big[Y_{0i} | Z_i = 0\\big]}_{ATC} \\\\\n",
    "     & \\ \\ + \n",
    "     \\underbrace{\\mathbb{E}\\big[Y_{1i} | Z_i = 1\\big] - \\mathbb{E}\\big[Y_{1i}| Z_i = 0\\big]}_{\\text{Selection bias on} Y_{1i}} \\\\\n",
    "\\end{align}\n",
    "$$\n",
    "\n",
    "- What is the source of the Selection Bias?\n",
    "    + Look at these equations: They are suggesting that Selection Bias is when the *treatment levels* in the units that receive the control (or $Y_{1i}$ when $Z_i = 0$) *differ* from the units in the *treatment*\n",
    "        + Can you draw this in the PO tables? Try it out!"
   ]
  },
  {
   "cell_type": "markdown",
   "metadata": {
    "slideshow": {
     "slide_type": "slide"
    }
   },
   "source": [
    "## Identification in the PO framework\n",
    "\n",
    "- What do these decompositions mean?\n",
    "    + In practical terms, if you try to estimate the causal effect using the available data, you would compare *apples* to *oranges*.\n",
    "    \n",
    "- We can rewrite these biases as:\n",
    "\n",
    "$$\n",
    "\\begin{align}\n",
    "\\mathbb{E}\\big[Y_i | Z_i = 1\\big] - \\mathbb{E}\\big[Y_i | Z_i = 1\\big] &= \\underbrace{\\tau}_{\\text{ATE}} + \\underbrace{\\mathbb{E}\\big[Y_{0i} | Z_i = 1\\big] - \\mathbb{E}\\big[Y_{0i} | Z_i = 0\\big]}_{\\text{Selection bias on} Y_{0i}} \\\\\n",
    "     & \\ \\ + \n",
    "     \\underbrace{\\big(1 - \\mathbb{P}(Z_i = 1) \\big)\\mathbb{E}\\big[\\tau | Z_i = 1\\big] - \\mathbb{E}\\big[\\tau| Z_i = 0\\big]}_{\\text{Selection bias on } \\tau } \\\\\n",
    "\\end{align}\n",
    "$$\n",
    "\n",
    "- What does this mean? Selection bias could be on the representation of the control units or the causal effect.\n",
    "\n",
    "- This formula goes to exercise!"
   ]
  },
  {
   "cell_type": "markdown",
   "metadata": {
    "slideshow": {
     "slide_type": "slide"
    }
   },
   "source": [
    "## Identification in the PO framework\n",
    "\n",
    "- How can we fix this?\n",
    "\n",
    "+ We know that if two variables are independent, i.e., $X \\perp Y$:\n",
    "    + $\\mathbb{P}(X, Y) = \\mathbb{P}(X)\\mathbb{P}(Y)$\n",
    "    + $\\mathbb{P}(X | Y) = \\mathbb{P}(X)$\n",
    "\n",
    "+ Moreover, we know that if $X \\perp Y | Z$ ($X$ is independent of $Y$ when we condition the variables on the variable $Z$):\n",
    "    + $\\mathbb{P}(X, Y |Z) = \\mathbb{P}(X | Z)\\mathbb{P}(Y | Z)$\n",
    "    + $\\mathbb{P}(X |Y, Z) = \\mathbb{P}(X | Z)$"
   ]
  },
  {
   "cell_type": "markdown",
   "metadata": {
    "slideshow": {
     "slide_type": "slide"
    }
   },
   "source": [
    "## Identification in the PO framework\n",
    "\n",
    "- Now, let us consider something powerful:\n",
    "\n",
    "#### Identifying Assumption 1 (Ignorability of the Treatment)\n",
    "\n",
    "If the intervention $Z$ was randomly assigned, then:\n",
    "\n",
    "1. $0 < \\mathbb{P}(Z_i = 1) < 1$ (positivity)\n",
    "\n",
    "2. $Z_i \\perp \\big(Y_{1i}, Y_{0i}\\big)$ (conditional independence)"
   ]
  },
  {
   "cell_type": "markdown",
   "metadata": {
    "slideshow": {
     "slide_type": "slide"
    }
   },
   "source": [
    "## Identification in the PO framework\n",
    "\n",
    "- Now, let us consider something powerful:\n",
    "\n",
    "#### Identifying Assumption 1 (Ignorability of the Treatment)\n",
    "\n",
    "If the intervention $Z$ was randomly assigned, then:\n",
    "\n",
    "1. $0 < \\mathbb{P}(Z_i = 1) < 1$ (positivity)\n",
    "2. $Z_i \\perp \\big(Y_{1i}, Y_{0i}\\big)$ (conditional independence)\n",
    "\n",
    "- The ATT decomposition, again, is:\n",
    "\n",
    "$$\n",
    "\\begin{align}\n",
    "\\mathbb{E}\\big[Y_i | Z_i = 1\\big] - \\big[\\mathbb{E}\\big[Y_i | Z_i = 1\\big] &= \\mathbb{E}\\big[Y_{1i} | Z_i = 1\\big] - \\mathbb{E}\\big[Y_{0i}| Z_i = 0\\big] \\\\\n",
    "     &= \\underbrace{\\mathbb{E}\\big[Y_{1i} | Z_i = 1\\big] - \\mathbb{E}\\big[Y_{0i} | Z_i = 1\\big]}_{ATT} \\\\\n",
    "     & \\ \\ + \n",
    "     \\underbrace{\\mathbb{E}\\big[Y_{0i} | Z_i = 1\\big] - \\mathbb{E}\\big[Y_{0i}| Z_i = 0\\big]}_{\\text{Selection bias on} Y_{0i}} \\\\\n",
    "\\end{align}\n",
    "$$\n",
    "\n",
    "- How much is the Selection Bias?\n",
    "    - **Prove this**!\n",
    "\n",
    "- How to compute the treatment effect then?\n",
    "    - **Prove this**!"
   ]
  },
  {
   "cell_type": "markdown",
   "metadata": {
    "slideshow": {
     "slide_type": "slide"
    }
   },
   "source": [
    "## Identification in the PO framework\n",
    "\n",
    "- Now, let us consider something even more powerful:\n",
    "\n",
    "#### Identifying Assumption 2 (Conditional Independence Assumption)\n",
    "\n",
    "If the intervention $Z$ was randomly assigned when conditioning on $X$, then:\n",
    "\n",
    "1. $0 < \\mathbb{P}(Z_i = 1 | X_i = x) < 1$ (positivity)\n",
    "\n",
    "2. $Z_i \\perp \\big(Y_{1i}, Y_{0i}\\big) | X_i$ (CIA)\n",
    "\n",
    "- The *Conditional Average Treatment Effect (CATE)* is given by:\n",
    "\n",
    "$$ \\tau(x) \\ = \\ \\mathbb{E}\\big[Y_{1i} - Y_{0i} | X_i = x\\big] $$"
   ]
  },
  {
   "cell_type": "markdown",
   "metadata": {
    "slideshow": {
     "slide_type": "slide"
    }
   },
   "source": [
    "## Identification in the PO framework\n",
    "\n",
    "- Now, let us consider something even more powerful:\n",
    "\n",
    "#### Identifying Assumption 2 (Conditional Independence Assumption)\n",
    "\n",
    "- The *Conditional Average Treatment Effect (CATE)* is given by:\n",
    "\n",
    "$$ \\tau(x) \\ = \\ \\mathbb{E}\\big[Y_{1i} - Y_{0i} | X_i = x\\big] $$\n",
    "\n",
    "- Which is the same as:\n",
    "\n",
    "$$ \\tau(x) \\ = \\ \\mathbb{E}\\big[Y_i | Z_i = 1, X_i = x\\big] - \\mathbb{E}\\big[Y_{i} | Z_i = 0, X_i = x\\big] $$\n",
    "\n",
    "    + **Prove this**!\n",
    "\n",
    "- And the ATE is (and $f$ is the PDF of $x$):\n",
    "\n",
    "$$ \\tau = \\int_{\\text{Supp}(X)} \\tau(x)f(x)dx $$\n",
    "\n",
    "    + **Prove this**!"
   ]
  },
  {
   "cell_type": "markdown",
   "metadata": {
    "slideshow": {
     "slide_type": "slide"
    }
   },
   "source": [
    "## Identification in the PO framework\n",
    "\n",
    "- Now, let us consider something even more powerful:\n",
    "\n",
    "#### Identifying Assumption 2 (Conditional Independence Assumption)\n",
    "\n",
    "- The *Conditional Average Treatment Effect (CATE)* is given by:\n",
    "\n",
    "$$ \\tau(x) \\ = \\ \\mathbb{E}\\big[Y_{1i} - Y_{0i} | X_i = x\\big] $$\n",
    "\n",
    "- Which is the same as:\n",
    "\n",
    "$$ \\tau(x) \\ = \\ \\mathbb{E}\\big[Y_i | Z_i = 1, X_i = x\\big] - \\mathbb{E}\\big[Y_{i} | Z_i = 0, X_i = x\\big] $$\n",
    "\n",
    "- And the ATE is (and $f$ is the PDF of $x$):\n",
    "\n",
    "$$ \\tau = \\int_{\\text{Supp}(X)} \\tau(x)f(x)dx $$\n",
    "\n",
    "- **Prove these two facts**!"
   ]
  },
  {
   "cell_type": "markdown",
   "metadata": {
    "slideshow": {
     "slide_type": "slide"
    }
   },
   "source": [
    "## Questions?"
   ]
  },
  {
   "cell_type": "markdown",
   "metadata": {
    "slideshow": {
     "slide_type": "slide"
    }
   },
   "source": [
    "## See you in the next class!"
   ]
  }
 ],
 "metadata": {
  "celltoolbar": "Slideshow",
  "kernelspec": {
   "display_name": "Python 3 (ipykernel)",
   "language": "python",
   "name": "python3"
  },
  "language_info": {
   "codemirror_mode": {
    "name": "ipython",
    "version": 3
   },
   "file_extension": ".py",
   "mimetype": "text/x-python",
   "name": "python",
   "nbconvert_exporter": "python",
   "pygments_lexer": "ipython3",
   "version": "3.10.9"
  }
 },
 "nbformat": 4,
 "nbformat_minor": 4
}
